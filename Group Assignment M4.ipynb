{
  "cells": [
    {
      "cell_type": "markdown",
      "metadata": {
        "id": "view-in-github",
        "colab_type": "text"
      },
      "source": [
        "<a href=\"https://colab.research.google.com/github/31shivam/ALY6110/blob/Google-Collab/Group%20Assignment%20M4.ipynb\" target=\"_parent\"><img src=\"https://colab.research.google.com/assets/colab-badge.svg\" alt=\"Open In Colab\"/></a>"
      ]
    },
    {
      "cell_type": "code",
      "execution_count": 4,
      "metadata": {
        "id": "59DKBQRJJc8B"
      },
      "outputs": [],
      "source": [
        "# Download Java Virtual Machine (JVM)\n",
        "!apt-get install openjdk-8-jdk-headless -qq > /dev/null\n"
      ],
      "id": "59DKBQRJJc8B"
    },
    {
      "cell_type": "code",
      "source": [
        "# Download Spark\n",
        "!wget -q https://dlcdn.apache.org/spark/spark-3.3.1/spark-3.3.1-bin-hadoop3.tgz\n"
      ],
      "metadata": {
        "id": "pKfg8za-G6Zl"
      },
      "execution_count": 5,
      "outputs": [],
      "id": "pKfg8za-G6Zl"
    },
    {
      "cell_type": "code",
      "source": [
        "# Unzip the file\n",
        "!tar xf spark-3.3.1-bin-hadoop3.tgz"
      ],
      "metadata": {
        "id": "-g7fyoW3HB3C"
      },
      "execution_count": 6,
      "outputs": [],
      "id": "-g7fyoW3HB3C"
    },
    {
      "cell_type": "code",
      "source": [
        "import os\n",
        "os.environ[\"JAVA_HOME\"] = \"/usr/lib/jvm/java-8-openjdk-amd64\"\n",
        "os.environ[\"SPARK_HOME\"] = '/content/spark-3.3.1-bin-hadoop3'"
      ],
      "metadata": {
        "id": "rOH6Lf6lHiPy"
      },
      "execution_count": 7,
      "outputs": [],
      "id": "rOH6Lf6lHiPy"
    },
    {
      "cell_type": "code",
      "source": [
        "# Install library for finding Spark\n",
        "!pip install -q findspark\n",
        "# Import the libary\n",
        "import findspark\n",
        "# Initiate findspark\n",
        "findspark.init()\n",
        "# Check the location for Spark\n",
        "findspark.find()"
      ],
      "metadata": {
        "colab": {
          "base_uri": "https://localhost:8080/",
          "height": 35
        },
        "id": "3-MW6CSmHwPJ",
        "outputId": "1fbeb0e5-c4df-4520-8b98-358bec8e0737"
      },
      "execution_count": 8,
      "outputs": [
        {
          "output_type": "execute_result",
          "data": {
            "text/plain": [
              "'/content/spark-3.3.1-bin-hadoop3'"
            ],
            "application/vnd.google.colaboratory.intrinsic+json": {
              "type": "string"
            }
          },
          "metadata": {},
          "execution_count": 8
        }
      ],
      "id": "3-MW6CSmHwPJ"
    },
    {
      "cell_type": "code",
      "source": [
        "# Import SparkSession\n",
        "from pyspark.sql import SparkSession\n",
        "# Create a Spark Session\n",
        "spark = SparkSession.builder.master(\"local[*]\").getOrCreate()\n",
        "# Check Spark Session Information\n",
        "spark"
      ],
      "metadata": {
        "colab": {
          "base_uri": "https://localhost:8080/",
          "height": 219
        },
        "id": "SP7MnmjHICDs",
        "outputId": "0073724b-60b1-4554-a8c5-21adbac95fd4"
      },
      "execution_count": 9,
      "outputs": [
        {
          "output_type": "execute_result",
          "data": {
            "text/plain": [
              "<pyspark.sql.session.SparkSession at 0x7f398933cc10>"
            ],
            "text/html": [
              "\n",
              "            <div>\n",
              "                <p><b>SparkSession - in-memory</b></p>\n",
              "                \n",
              "        <div>\n",
              "            <p><b>SparkContext</b></p>\n",
              "\n",
              "            <p><a href=\"http://3ebf76483b75:4040\">Spark UI</a></p>\n",
              "\n",
              "            <dl>\n",
              "              <dt>Version</dt>\n",
              "                <dd><code>v3.3.1</code></dd>\n",
              "              <dt>Master</dt>\n",
              "                <dd><code>local[*]</code></dd>\n",
              "              <dt>AppName</dt>\n",
              "                <dd><code>pyspark-shell</code></dd>\n",
              "            </dl>\n",
              "        </div>\n",
              "        \n",
              "            </div>\n",
              "        "
            ]
          },
          "metadata": {},
          "execution_count": 9
        }
      ],
      "id": "SP7MnmjHICDs"
    },
    {
      "cell_type": "code",
      "source": [
        "# Import a Spark function from library\n",
        "from pyspark.sql.functions import col"
      ],
      "metadata": {
        "id": "R_FYZ2moIQRl"
      },
      "execution_count": 10,
      "outputs": [],
      "id": "R_FYZ2moIQRl"
    },
    {
      "cell_type": "code",
      "source": [
        "print(spark.sparkContext)\n",
        "print(\"Spark App Name : \"+ spark.sparkContext.appName)"
      ],
      "metadata": {
        "colab": {
          "base_uri": "https://localhost:8080/"
        },
        "id": "eYINIrioITIG",
        "outputId": "8cecd91b-782c-4199-897d-df33f528abe4"
      },
      "execution_count": 11,
      "outputs": [
        {
          "output_type": "stream",
          "name": "stdout",
          "text": [
            "<SparkContext master=local[*] appName=pyspark-shell>\n",
            "Spark App Name : pyspark-shell\n"
          ]
        }
      ],
      "id": "eYINIrioITIG"
    },
    {
      "cell_type": "code",
      "source": [
        "df=spark.sql(\"show databases\")\n",
        "df.show()"
      ],
      "metadata": {
        "colab": {
          "base_uri": "https://localhost:8080/"
        },
        "id": "5oiOMOgPDLM-",
        "outputId": "4646745b-cf01-47bd-a4ae-d5ca1db1c2ba"
      },
      "execution_count": 12,
      "outputs": [
        {
          "output_type": "stream",
          "name": "stdout",
          "text": [
            "+---------+\n",
            "|namespace|\n",
            "+---------+\n",
            "|  default|\n",
            "+---------+\n",
            "\n"
          ]
        }
      ],
      "id": "5oiOMOgPDLM-"
    },
    {
      "cell_type": "code",
      "source": [
        "from google.colab import files\n",
        "files.upload()"
      ],
      "metadata": {
        "colab": {
          "base_uri": "https://localhost:8080/",
          "height": 73
        },
        "id": "vO6fFfsQZmW4",
        "outputId": "89666f4e-6840-4f64-a377-ac11535b524f"
      },
      "id": "vO6fFfsQZmW4",
      "execution_count": 13,
      "outputs": [
        {
          "output_type": "display_data",
          "data": {
            "text/plain": [
              "<IPython.core.display.HTML object>"
            ],
            "text/html": [
              "\n",
              "     <input type=\"file\" id=\"files-5d14d406-9913-4559-8291-73df32547087\" name=\"files[]\" multiple disabled\n",
              "        style=\"border:none\" />\n",
              "     <output id=\"result-5d14d406-9913-4559-8291-73df32547087\">\n",
              "      Upload widget is only available when the cell has been executed in the\n",
              "      current browser session. Please rerun this cell to enable.\n",
              "      </output>\n",
              "      <script>// Copyright 2017 Google LLC\n",
              "//\n",
              "// Licensed under the Apache License, Version 2.0 (the \"License\");\n",
              "// you may not use this file except in compliance with the License.\n",
              "// You may obtain a copy of the License at\n",
              "//\n",
              "//      http://www.apache.org/licenses/LICENSE-2.0\n",
              "//\n",
              "// Unless required by applicable law or agreed to in writing, software\n",
              "// distributed under the License is distributed on an \"AS IS\" BASIS,\n",
              "// WITHOUT WARRANTIES OR CONDITIONS OF ANY KIND, either express or implied.\n",
              "// See the License for the specific language governing permissions and\n",
              "// limitations under the License.\n",
              "\n",
              "/**\n",
              " * @fileoverview Helpers for google.colab Python module.\n",
              " */\n",
              "(function(scope) {\n",
              "function span(text, styleAttributes = {}) {\n",
              "  const element = document.createElement('span');\n",
              "  element.textContent = text;\n",
              "  for (const key of Object.keys(styleAttributes)) {\n",
              "    element.style[key] = styleAttributes[key];\n",
              "  }\n",
              "  return element;\n",
              "}\n",
              "\n",
              "// Max number of bytes which will be uploaded at a time.\n",
              "const MAX_PAYLOAD_SIZE = 100 * 1024;\n",
              "\n",
              "function _uploadFiles(inputId, outputId) {\n",
              "  const steps = uploadFilesStep(inputId, outputId);\n",
              "  const outputElement = document.getElementById(outputId);\n",
              "  // Cache steps on the outputElement to make it available for the next call\n",
              "  // to uploadFilesContinue from Python.\n",
              "  outputElement.steps = steps;\n",
              "\n",
              "  return _uploadFilesContinue(outputId);\n",
              "}\n",
              "\n",
              "// This is roughly an async generator (not supported in the browser yet),\n",
              "// where there are multiple asynchronous steps and the Python side is going\n",
              "// to poll for completion of each step.\n",
              "// This uses a Promise to block the python side on completion of each step,\n",
              "// then passes the result of the previous step as the input to the next step.\n",
              "function _uploadFilesContinue(outputId) {\n",
              "  const outputElement = document.getElementById(outputId);\n",
              "  const steps = outputElement.steps;\n",
              "\n",
              "  const next = steps.next(outputElement.lastPromiseValue);\n",
              "  return Promise.resolve(next.value.promise).then((value) => {\n",
              "    // Cache the last promise value to make it available to the next\n",
              "    // step of the generator.\n",
              "    outputElement.lastPromiseValue = value;\n",
              "    return next.value.response;\n",
              "  });\n",
              "}\n",
              "\n",
              "/**\n",
              " * Generator function which is called between each async step of the upload\n",
              " * process.\n",
              " * @param {string} inputId Element ID of the input file picker element.\n",
              " * @param {string} outputId Element ID of the output display.\n",
              " * @return {!Iterable<!Object>} Iterable of next steps.\n",
              " */\n",
              "function* uploadFilesStep(inputId, outputId) {\n",
              "  const inputElement = document.getElementById(inputId);\n",
              "  inputElement.disabled = false;\n",
              "\n",
              "  const outputElement = document.getElementById(outputId);\n",
              "  outputElement.innerHTML = '';\n",
              "\n",
              "  const pickedPromise = new Promise((resolve) => {\n",
              "    inputElement.addEventListener('change', (e) => {\n",
              "      resolve(e.target.files);\n",
              "    });\n",
              "  });\n",
              "\n",
              "  const cancel = document.createElement('button');\n",
              "  inputElement.parentElement.appendChild(cancel);\n",
              "  cancel.textContent = 'Cancel upload';\n",
              "  const cancelPromise = new Promise((resolve) => {\n",
              "    cancel.onclick = () => {\n",
              "      resolve(null);\n",
              "    };\n",
              "  });\n",
              "\n",
              "  // Wait for the user to pick the files.\n",
              "  const files = yield {\n",
              "    promise: Promise.race([pickedPromise, cancelPromise]),\n",
              "    response: {\n",
              "      action: 'starting',\n",
              "    }\n",
              "  };\n",
              "\n",
              "  cancel.remove();\n",
              "\n",
              "  // Disable the input element since further picks are not allowed.\n",
              "  inputElement.disabled = true;\n",
              "\n",
              "  if (!files) {\n",
              "    return {\n",
              "      response: {\n",
              "        action: 'complete',\n",
              "      }\n",
              "    };\n",
              "  }\n",
              "\n",
              "  for (const file of files) {\n",
              "    const li = document.createElement('li');\n",
              "    li.append(span(file.name, {fontWeight: 'bold'}));\n",
              "    li.append(span(\n",
              "        `(${file.type || 'n/a'}) - ${file.size} bytes, ` +\n",
              "        `last modified: ${\n",
              "            file.lastModifiedDate ? file.lastModifiedDate.toLocaleDateString() :\n",
              "                                    'n/a'} - `));\n",
              "    const percent = span('0% done');\n",
              "    li.appendChild(percent);\n",
              "\n",
              "    outputElement.appendChild(li);\n",
              "\n",
              "    const fileDataPromise = new Promise((resolve) => {\n",
              "      const reader = new FileReader();\n",
              "      reader.onload = (e) => {\n",
              "        resolve(e.target.result);\n",
              "      };\n",
              "      reader.readAsArrayBuffer(file);\n",
              "    });\n",
              "    // Wait for the data to be ready.\n",
              "    let fileData = yield {\n",
              "      promise: fileDataPromise,\n",
              "      response: {\n",
              "        action: 'continue',\n",
              "      }\n",
              "    };\n",
              "\n",
              "    // Use a chunked sending to avoid message size limits. See b/62115660.\n",
              "    let position = 0;\n",
              "    do {\n",
              "      const length = Math.min(fileData.byteLength - position, MAX_PAYLOAD_SIZE);\n",
              "      const chunk = new Uint8Array(fileData, position, length);\n",
              "      position += length;\n",
              "\n",
              "      const base64 = btoa(String.fromCharCode.apply(null, chunk));\n",
              "      yield {\n",
              "        response: {\n",
              "          action: 'append',\n",
              "          file: file.name,\n",
              "          data: base64,\n",
              "        },\n",
              "      };\n",
              "\n",
              "      let percentDone = fileData.byteLength === 0 ?\n",
              "          100 :\n",
              "          Math.round((position / fileData.byteLength) * 100);\n",
              "      percent.textContent = `${percentDone}% done`;\n",
              "\n",
              "    } while (position < fileData.byteLength);\n",
              "  }\n",
              "\n",
              "  // All done.\n",
              "  yield {\n",
              "    response: {\n",
              "      action: 'complete',\n",
              "    }\n",
              "  };\n",
              "}\n",
              "\n",
              "scope.google = scope.google || {};\n",
              "scope.google.colab = scope.google.colab || {};\n",
              "scope.google.colab._files = {\n",
              "  _uploadFiles,\n",
              "  _uploadFilesContinue,\n",
              "};\n",
              "})(self);\n",
              "</script> "
            ]
          },
          "metadata": {}
        },
        {
          "output_type": "stream",
          "name": "stdout",
          "text": [
            "Saving car_prices.csv to car_prices.csv\n"
          ]
        }
      ]
    },
    {
      "cell_type": "code",
      "source": [
        "import pandas as pd\n",
        "import numpy as np\n",
        "import matplotlib.pyplot as plt\n",
        "import seaborn as sns\n",
        "from sklearn.model_selection import train_test_split\n",
        "from sklearn.linear_model import LinearRegression\n",
        "import matplotlib.pyplot as plt\n",
        "from sklearn import preprocessing\n",
        "from sklearn.preprocessing import StandardScaler\n",
        "from sklearn.preprocessing import MinMaxScaler\n",
        "\n",
        "#libraries for evaluation\n",
        "from sklearn.metrics import mean_squared_log_error,r2_score,mean_squared_error\n",
        "\n",
        "from sklearn.ensemble import RandomForestRegressor"
      ],
      "metadata": {
        "id": "D3R9wXsCh5mx"
      },
      "id": "D3R9wXsCh5mx",
      "execution_count": null,
      "outputs": []
    },
    {
      "cell_type": "code",
      "source": [
        "df = pd.read_csv('car_prices.csv', error_bad_lines=False)"
      ],
      "metadata": {
        "colab": {
          "base_uri": "https://localhost:8080/"
        },
        "id": "9Ce8xfHrgK6R",
        "outputId": "8a81d5e2-1382-4b94-b08f-e2e573ec55cd"
      },
      "id": "9Ce8xfHrgK6R",
      "execution_count": 17,
      "outputs": [
        {
          "output_type": "stream",
          "name": "stderr",
          "text": [
            "/usr/local/lib/python3.8/dist-packages/IPython/core/interactiveshell.py:3326: FutureWarning: The error_bad_lines argument has been deprecated and will be removed in a future version.\n",
            "\n",
            "\n",
            "  exec(code_obj, self.user_global_ns, self.user_ns)\n",
            "b'Skipping line 408163: expected 16 fields, saw 17\\nSkipping line 417837: expected 16 fields, saw 17\\nSkipping line 421291: expected 16 fields, saw 17\\nSkipping line 424163: expected 16 fields, saw 17\\n'\n",
            "b'Skipping line 427042: expected 16 fields, saw 17\\nSkipping line 427045: expected 16 fields, saw 17\\nSkipping line 434426: expected 16 fields, saw 17\\nSkipping line 444503: expected 16 fields, saw 17\\nSkipping line 453796: expected 16 fields, saw 17\\n'\n",
            "b'Skipping line 461599: expected 16 fields, saw 17\\nSkipping line 461614: expected 16 fields, saw 17\\n'\n",
            "b'Skipping line 492486: expected 16 fields, saw 17\\nSkipping line 497010: expected 16 fields, saw 17\\nSkipping line 497013: expected 16 fields, saw 17\\nSkipping line 499085: expected 16 fields, saw 17\\nSkipping line 501457: expected 16 fields, saw 17\\nSkipping line 505301: expected 16 fields, saw 17\\nSkipping line 505308: expected 16 fields, saw 17\\nSkipping line 520463: expected 16 fields, saw 17\\n'\n",
            "b'Skipping line 528998: expected 16 fields, saw 17\\nSkipping line 529011: expected 16 fields, saw 17\\nSkipping line 529015: expected 16 fields, saw 17\\nSkipping line 529624: expected 16 fields, saw 17\\nSkipping line 548786: expected 16 fields, saw 17\\nSkipping line 551224: expected 16 fields, saw 17\\nSkipping line 554712: expected 16 fields, saw 17\\n'\n"
          ]
        }
      ]
    },
    {
      "cell_type": "code",
      "execution_count": 18,
      "id": "ab0ba810",
      "metadata": {
        "id": "ab0ba810",
        "outputId": "80cde2a0-0997-48b8-d9fd-72779fd2ffdf",
        "colab": {
          "base_uri": "https://localhost:8080/",
          "height": 206
        }
      },
      "outputs": [
        {
          "output_type": "execute_result",
          "data": {
            "text/plain": [
              "   condition  odometer    mmr  sellingprice\n",
              "0        5.0   16639.0  20500         21500\n",
              "1        5.0    9393.0  20800         21500\n",
              "2        4.5    1331.0  31900         30000\n",
              "3        4.1   14282.0  27500         27750\n",
              "4        4.3    2641.0  66000         67000"
            ],
            "text/html": [
              "\n",
              "  <div id=\"df-bfa3523d-6abd-4457-9f35-81031e34e4db\">\n",
              "    <div class=\"colab-df-container\">\n",
              "      <div>\n",
              "<style scoped>\n",
              "    .dataframe tbody tr th:only-of-type {\n",
              "        vertical-align: middle;\n",
              "    }\n",
              "\n",
              "    .dataframe tbody tr th {\n",
              "        vertical-align: top;\n",
              "    }\n",
              "\n",
              "    .dataframe thead th {\n",
              "        text-align: right;\n",
              "    }\n",
              "</style>\n",
              "<table border=\"1\" class=\"dataframe\">\n",
              "  <thead>\n",
              "    <tr style=\"text-align: right;\">\n",
              "      <th></th>\n",
              "      <th>condition</th>\n",
              "      <th>odometer</th>\n",
              "      <th>mmr</th>\n",
              "      <th>sellingprice</th>\n",
              "    </tr>\n",
              "  </thead>\n",
              "  <tbody>\n",
              "    <tr>\n",
              "      <th>0</th>\n",
              "      <td>5.0</td>\n",
              "      <td>16639.0</td>\n",
              "      <td>20500</td>\n",
              "      <td>21500</td>\n",
              "    </tr>\n",
              "    <tr>\n",
              "      <th>1</th>\n",
              "      <td>5.0</td>\n",
              "      <td>9393.0</td>\n",
              "      <td>20800</td>\n",
              "      <td>21500</td>\n",
              "    </tr>\n",
              "    <tr>\n",
              "      <th>2</th>\n",
              "      <td>4.5</td>\n",
              "      <td>1331.0</td>\n",
              "      <td>31900</td>\n",
              "      <td>30000</td>\n",
              "    </tr>\n",
              "    <tr>\n",
              "      <th>3</th>\n",
              "      <td>4.1</td>\n",
              "      <td>14282.0</td>\n",
              "      <td>27500</td>\n",
              "      <td>27750</td>\n",
              "    </tr>\n",
              "    <tr>\n",
              "      <th>4</th>\n",
              "      <td>4.3</td>\n",
              "      <td>2641.0</td>\n",
              "      <td>66000</td>\n",
              "      <td>67000</td>\n",
              "    </tr>\n",
              "  </tbody>\n",
              "</table>\n",
              "</div>\n",
              "      <button class=\"colab-df-convert\" onclick=\"convertToInteractive('df-bfa3523d-6abd-4457-9f35-81031e34e4db')\"\n",
              "              title=\"Convert this dataframe to an interactive table.\"\n",
              "              style=\"display:none;\">\n",
              "        \n",
              "  <svg xmlns=\"http://www.w3.org/2000/svg\" height=\"24px\"viewBox=\"0 0 24 24\"\n",
              "       width=\"24px\">\n",
              "    <path d=\"M0 0h24v24H0V0z\" fill=\"none\"/>\n",
              "    <path d=\"M18.56 5.44l.94 2.06.94-2.06 2.06-.94-2.06-.94-.94-2.06-.94 2.06-2.06.94zm-11 1L8.5 8.5l.94-2.06 2.06-.94-2.06-.94L8.5 2.5l-.94 2.06-2.06.94zm10 10l.94 2.06.94-2.06 2.06-.94-2.06-.94-.94-2.06-.94 2.06-2.06.94z\"/><path d=\"M17.41 7.96l-1.37-1.37c-.4-.4-.92-.59-1.43-.59-.52 0-1.04.2-1.43.59L10.3 9.45l-7.72 7.72c-.78.78-.78 2.05 0 2.83L4 21.41c.39.39.9.59 1.41.59.51 0 1.02-.2 1.41-.59l7.78-7.78 2.81-2.81c.8-.78.8-2.07 0-2.86zM5.41 20L4 18.59l7.72-7.72 1.47 1.35L5.41 20z\"/>\n",
              "  </svg>\n",
              "      </button>\n",
              "      \n",
              "  <style>\n",
              "    .colab-df-container {\n",
              "      display:flex;\n",
              "      flex-wrap:wrap;\n",
              "      gap: 12px;\n",
              "    }\n",
              "\n",
              "    .colab-df-convert {\n",
              "      background-color: #E8F0FE;\n",
              "      border: none;\n",
              "      border-radius: 50%;\n",
              "      cursor: pointer;\n",
              "      display: none;\n",
              "      fill: #1967D2;\n",
              "      height: 32px;\n",
              "      padding: 0 0 0 0;\n",
              "      width: 32px;\n",
              "    }\n",
              "\n",
              "    .colab-df-convert:hover {\n",
              "      background-color: #E2EBFA;\n",
              "      box-shadow: 0px 1px 2px rgba(60, 64, 67, 0.3), 0px 1px 3px 1px rgba(60, 64, 67, 0.15);\n",
              "      fill: #174EA6;\n",
              "    }\n",
              "\n",
              "    [theme=dark] .colab-df-convert {\n",
              "      background-color: #3B4455;\n",
              "      fill: #D2E3FC;\n",
              "    }\n",
              "\n",
              "    [theme=dark] .colab-df-convert:hover {\n",
              "      background-color: #434B5C;\n",
              "      box-shadow: 0px 1px 3px 1px rgba(0, 0, 0, 0.15);\n",
              "      filter: drop-shadow(0px 1px 2px rgba(0, 0, 0, 0.3));\n",
              "      fill: #FFFFFF;\n",
              "    }\n",
              "  </style>\n",
              "\n",
              "      <script>\n",
              "        const buttonEl =\n",
              "          document.querySelector('#df-bfa3523d-6abd-4457-9f35-81031e34e4db button.colab-df-convert');\n",
              "        buttonEl.style.display =\n",
              "          google.colab.kernel.accessAllowed ? 'block' : 'none';\n",
              "\n",
              "        async function convertToInteractive(key) {\n",
              "          const element = document.querySelector('#df-bfa3523d-6abd-4457-9f35-81031e34e4db');\n",
              "          const dataTable =\n",
              "            await google.colab.kernel.invokeFunction('convertToInteractive',\n",
              "                                                     [key], {});\n",
              "          if (!dataTable) return;\n",
              "\n",
              "          const docLinkHtml = 'Like what you see? Visit the ' +\n",
              "            '<a target=\"_blank\" href=https://colab.research.google.com/notebooks/data_table.ipynb>data table notebook</a>'\n",
              "            + ' to learn more about interactive tables.';\n",
              "          element.innerHTML = '';\n",
              "          dataTable['output_type'] = 'display_data';\n",
              "          await google.colab.output.renderOutput(dataTable, element);\n",
              "          const docLink = document.createElement('div');\n",
              "          docLink.innerHTML = docLinkHtml;\n",
              "          element.appendChild(docLink);\n",
              "        }\n",
              "      </script>\n",
              "    </div>\n",
              "  </div>\n",
              "  "
            ]
          },
          "metadata": {},
          "execution_count": 18
        }
      ],
      "source": [
        "#read data and select year between 2010-2015\n",
        "df.head()\n",
        "df1 = df[(df[\"year\"] >= 2010) & (df[\"year\"] <= 2015)]\n",
        "#select columns\n",
        "df1 = pd.DataFrame(df1,columns = [\"condition\",\"odometer\",\"mmr\",\"sellingprice\"])\n",
        "df1.head()"
      ]
    },
    {
      "cell_type": "code",
      "execution_count": 19,
      "id": "25f4fd69",
      "metadata": {
        "id": "25f4fd69",
        "outputId": "426a16c1-8663-465a-d456-65b1c4cdfda5",
        "colab": {
          "base_uri": "https://localhost:8080/"
        }
      },
      "outputs": [
        {
          "output_type": "stream",
          "name": "stdout",
          "text": [
            "<class 'pandas.core.frame.DataFrame'>\n",
            "RangeIndex: 558811 entries, 0 to 558810\n",
            "Data columns (total 16 columns):\n",
            " #   Column        Non-Null Count   Dtype  \n",
            "---  ------        --------------   -----  \n",
            " 0   year          558811 non-null  int64  \n",
            " 1   make          548510 non-null  object \n",
            " 2   model         548412 non-null  object \n",
            " 3   trim          548160 non-null  object \n",
            " 4   body          545616 non-null  object \n",
            " 5   transmission  493458 non-null  object \n",
            " 6   vin           558811 non-null  object \n",
            " 7   state         558811 non-null  object \n",
            " 8   condition     547017 non-null  float64\n",
            " 9   odometer      558717 non-null  float64\n",
            " 10  color         558062 non-null  object \n",
            " 11  interior      558062 non-null  object \n",
            " 12  seller        558811 non-null  object \n",
            " 13  mmr           558811 non-null  int64  \n",
            " 14  sellingprice  558811 non-null  int64  \n",
            " 15  saledate      558811 non-null  object \n",
            "dtypes: float64(2), int64(3), object(11)\n",
            "memory usage: 68.2+ MB\n"
          ]
        }
      ],
      "source": [
        "df.info()"
      ]
    },
    {
      "cell_type": "code",
      "execution_count": 20,
      "id": "65d1e9cb",
      "metadata": {
        "id": "65d1e9cb",
        "outputId": "1333bd1d-3ce8-435b-eee9-9bdedddf1de7",
        "colab": {
          "base_uri": "https://localhost:8080/"
        }
      },
      "outputs": [
        {
          "output_type": "stream",
          "name": "stdout",
          "text": [
            "condition       2184\n",
            "odometer          12\n",
            "mmr                0\n",
            "sellingprice       0\n",
            "dtype: int64\n"
          ]
        }
      ],
      "source": [
        "#show NA\n",
        "df1.isnull().sum()\n",
        "print(df1.isnull().sum())"
      ]
    },
    {
      "cell_type": "code",
      "execution_count": 21,
      "id": "a3204ef9",
      "metadata": {
        "id": "a3204ef9",
        "outputId": "5c8bcd27-429d-4389-86b7-91fe6ba6802c",
        "colab": {
          "base_uri": "https://localhost:8080/"
        }
      },
      "outputs": [
        {
          "output_type": "stream",
          "name": "stdout",
          "text": [
            "condition       0\n",
            "odometer        0\n",
            "mmr             0\n",
            "sellingprice    0\n",
            "dtype: int64\n",
            "condition       float64\n",
            "odometer        float64\n",
            "mmr               int64\n",
            "sellingprice      int64\n",
            "dtype: object\n"
          ]
        }
      ],
      "source": [
        "# fill NA value with mode\n",
        "df1 = df1.fillna(value={\"condition\":df1[\"condition\"].mode()[0],\"odometer\":df1[\"odometer\"].mode()[0]})\n",
        "#show NA\n",
        "df1.isnull().sum()\n",
        "print(df1.isnull().sum())\n",
        "#chech data types\n",
        "print(df1.dtypes)"
      ]
    },
    {
      "cell_type": "code",
      "execution_count": 22,
      "id": "422b0bcb",
      "metadata": {
        "id": "422b0bcb",
        "outputId": "0efd7926-602a-430d-d1ba-2c871a1853bb",
        "colab": {
          "base_uri": "https://localhost:8080/"
        }
      },
      "outputs": [
        {
          "output_type": "execute_result",
          "data": {
            "text/plain": [
              "condition       float64\n",
              "odometer        float64\n",
              "mmr             float64\n",
              "sellingprice    float64\n",
              "dtype: object"
            ]
          },
          "metadata": {},
          "execution_count": 22
        }
      ],
      "source": [
        "#change data types\n",
        "df1[\"mmr\"]= df1[\"mmr\"].astype(float)\n",
        "df1[\"sellingprice\"]= df1[\"sellingprice\"].astype(float)\n",
        "df1.dtypes"
      ]
    },
    {
      "cell_type": "code",
      "execution_count": 23,
      "id": "21be453a",
      "metadata": {
        "id": "21be453a"
      },
      "outputs": [],
      "source": [
        "#def function to remove outliers\n",
        "def outliners(data,col,scale=3):\n",
        "    def box_plot_outliners(data_ser,box_scale):\n",
        "        IQR=box_scale*(data_ser.quantile(0.75)-data_ser.quantile(0.25))\n",
        "        val_low=data_ser.quantile(0.25)-IQR\n",
        "        val_up=data_ser.quantile(0.75)+IQR\n",
        "        rule_low=(data_ser<val_low)\n",
        "        rule_up=(data_ser>val_up)\n",
        "        return rule_low,rule_up,val_low,val_up\n",
        "    data_n=data.copy()\n",
        "    data_series=data_n[col]\n",
        "    rule_low,rule_up,val_low,val_up=box_plot_outliners(data_series,box_scale=scale)\n",
        "    data_n[col].loc[rule_up]=val_up\n",
        "    data_n[col].loc[rule_low]=val_low\n",
        "    return data_n"
      ]
    },
    {
      "cell_type": "code",
      "execution_count": 24,
      "id": "4a7c48f0",
      "metadata": {
        "id": "4a7c48f0",
        "outputId": "af19774a-b202-4e0c-8bff-450b051e7492",
        "colab": {
          "base_uri": "https://localhost:8080/",
          "height": 276
        }
      },
      "outputs": [
        {
          "output_type": "display_data",
          "data": {
            "text/plain": [
              "<Figure size 432x288 with 1 Axes>"
            ],
            "image/png": "[encoded data removed]"
          },
          "metadata": {
            "needs_background": "light"
          }
        }
      ],
      "source": [
        "#show outliers\n",
        "df1.boxplot()\n",
        "plt.show()"
      ]
    },
    {
      "cell_type": "code",
      "execution_count": null,
      "id": "792a02df",
      "metadata": {
        "id": "792a02df",
        "outputId": "de027966-6e5d-4b6d-f8d9-6e90d48954f6"
      },
      "outputs": [
        {
          "data": {
            "image/png": "[encoded data removed]",
            "text/plain": [
              "<Figure size 432x288 with 1 Axes>"
            ]
          },
          "metadata": {
            "needs_background": "light"
          },
          "output_type": "display_data"
        }
      ],
      "source": [
        "#remove outliers\n",
        "df1 = outliners(df1,\"condition\",scale=3)\n",
        "df1 = outliners(df1,\"odometer\",scale=3)\n",
        "df1 = outliners(df1,\"mmr\",scale=3)\n",
        "df1 = outliners(df1,\"sellingprice\",scale=3)\n",
        "\n",
        "#boxplot\n",
        "df1.boxplot()\n",
        "plt.show()"
      ]
    },
    {
      "cell_type": "code",
      "execution_count": null,
      "id": "683e6307",
      "metadata": {
        "id": "683e6307",
        "outputId": "ca095934-2539-4cc4-95b4-abd78af12f31"
      },
      "outputs": [
        {
          "data": {
            "text/html": [
              "<div>\n",
              "<style scoped>\n",
              "    .dataframe tbody tr th:only-of-type {\n",
              "        vertical-align: middle;\n",
              "    }\n",
              "\n",
              "    .dataframe tbody tr th {\n",
              "        vertical-align: top;\n",
              "    }\n",
              "\n",
              "    .dataframe thead th {\n",
              "        text-align: right;\n",
              "    }\n",
              "</style>\n",
              "<table border=\"1\" class=\"dataframe\">\n",
              "  <thead>\n",
              "    <tr style=\"text-align: right;\">\n",
              "      <th></th>\n",
              "      <th>condition</th>\n",
              "      <th>odometer</th>\n",
              "      <th>mmr</th>\n",
              "      <th>sellingprice</th>\n",
              "    </tr>\n",
              "  </thead>\n",
              "  <tbody>\n",
              "    <tr>\n",
              "      <th>condition</th>\n",
              "      <td>1.000000</td>\n",
              "      <td>-0.316723</td>\n",
              "      <td>0.279409</td>\n",
              "      <td>0.358181</td>\n",
              "    </tr>\n",
              "    <tr>\n",
              "      <th>odometer</th>\n",
              "      <td>-0.316723</td>\n",
              "      <td>1.000000</td>\n",
              "      <td>-0.364733</td>\n",
              "      <td>-0.363060</td>\n",
              "    </tr>\n",
              "    <tr>\n",
              "      <th>mmr</th>\n",
              "      <td>0.279409</td>\n",
              "      <td>-0.364733</td>\n",
              "      <td>1.000000</td>\n",
              "      <td>0.977864</td>\n",
              "    </tr>\n",
              "    <tr>\n",
              "      <th>sellingprice</th>\n",
              "      <td>0.358181</td>\n",
              "      <td>-0.363060</td>\n",
              "      <td>0.977864</td>\n",
              "      <td>1.000000</td>\n",
              "    </tr>\n",
              "  </tbody>\n",
              "</table>\n",
              "</div>"
            ],
            "text/plain": [
              "              condition  odometer       mmr  sellingprice\n",
              "condition      1.000000 -0.316723  0.279409      0.358181\n",
              "odometer      -0.316723  1.000000 -0.364733     -0.363060\n",
              "mmr            0.279409 -0.364733  1.000000      0.977864\n",
              "sellingprice   0.358181 -0.363060  0.977864      1.000000"
            ]
          },
          "execution_count": 10,
          "metadata": {},
          "output_type": "execute_result"
        }
      ],
      "source": [
        "#show correlation\n",
        "df1.corr()"
      ]
    },
    {
      "cell_type": "code",
      "execution_count": null,
      "id": "ac35da4d",
      "metadata": {
        "id": "ac35da4d",
        "outputId": "dfb15b45-825f-48ca-b607-9fef91800d9c"
      },
      "outputs": [
        {
          "name": "stderr",
          "output_type": "stream",
          "text": [
            "C:\\Users\\parth\\Anaconda3\\lib\\site-packages\\seaborn\\axisgrid.py:88: UserWarning: Tight layout not applied. tight_layout cannot make axes width small enough to accommodate all axes decorations\n",
            "  self._figure.tight_layout(*args, **kwargs)\n",
            "C:\\Users\\parth\\Anaconda3\\lib\\site-packages\\seaborn\\axisgrid.py:88: UserWarning: Tight layout not applied. The left and right margins cannot be made large enough to accommodate all axes decorations.\n",
            "  self._figure.tight_layout(*args, **kwargs)\n"
          ]
        },
        {
          "data": {
            "image/png": "[encoded data removed]",
            "text/plain": [
              "<Figure size 864x432 with 3 Axes>"
            ]
          },
          "metadata": {
            "needs_background": "light"
          },
          "output_type": "display_data"
        }
      ],
      "source": [
        "#Select the right proportion of data to create the visualization\n",
        "more_data,less_data = train_test_split(df1,train_size=.999)\n",
        "#Build a scatter chart to see the distribution of data\n",
        "ax = sns.pairplot(less_data, x_vars=['condition','odometer','mmr'], y_vars='sellingprice',aspect=0.1,kind = 'reg')\n",
        "ax.figure.set_size_inches(12,6)"
      ]
    },
    {
      "cell_type": "code",
      "execution_count": null,
      "id": "55961373",
      "metadata": {
        "id": "55961373",
        "outputId": "7b0b7ca5-9494-4495-fec6-5eb960b32fda"
      },
      "outputs": [
        {
          "data": {
            "image/png": "[encoded data removed]",
            "text/plain": [
              "<Figure size 432x288 with 1 Axes>"
            ]
          },
          "metadata": {
            "needs_background": "light"
          },
          "output_type": "display_data"
        }
      ],
      "source": [
        "#def function to remove outliers\n",
        "def outliners(data,col,scale=3):\n",
        "    def box_plot_outliners(data_ser,box_scale):\n",
        "        IQR=box_scale*(data_ser.quantile(0.75)-data_ser.quantile(0.25))\n",
        "        val_low=data_ser.quantile(0.25)-IQR\n",
        "        val_up=data_ser.quantile(0.75)+IQR\n",
        "        rule_low=(data_ser<val_low)\n",
        "        rule_up=(data_ser>val_up)\n",
        "        return rule_low,rule_up,val_low,val_up\n",
        "    data_n=data.copy()\n",
        "    data_series=data_n[col]\n",
        "    rule_low,rule_up,val_low,val_up=box_plot_outliners(data_series,box_scale=scale)\n",
        "    data_n[col].loc[rule_up]=val_up\n",
        "    data_n[col].loc[rule_low]=val_low\n",
        "    return data_n\n",
        "#remove outliers\n",
        "df_Ford = outliners(df_Ford,\"condition\",scale=3)\n",
        "df_Ford = outliners(df_Ford,\"odometer\",scale=3)\n",
        "df_Ford = outliners(df_Ford,\"mmr\",scale=3)\n",
        "df_Ford = outliners(df_Ford,\"sellingprice\",scale=3)\n",
        "\n",
        "df_Nissan = outliners(df_Nissan,\"condition\",scale=3)\n",
        "df_Nissan = outliners(df_Nissan,\"odometer\",scale=3)\n",
        "df_Nissan = outliners(df_Nissan,\"mmr\",scale=3)\n",
        "df_Nissan = outliners(df_Nissan,\"sellingprice\",scale=3)\n",
        "\n",
        "#boxplot\n",
        "df_Ford.boxplot()\n",
        "plt.show()"
      ]
    },
    {
      "cell_type": "code",
      "execution_count": null,
      "id": "b40f66df",
      "metadata": {
        "id": "b40f66df"
      },
      "outputs": [],
      "source": [
        "df1 = df1.drop([\"vin\",\"saledate\"],axis=1)"
      ]
    },
    {
      "cell_type": "code",
      "execution_count": null,
      "id": "37f83708",
      "metadata": {
        "id": "37f83708",
        "outputId": "70842fff-4b3b-4749-af26-eacac083469a"
      },
      "outputs": [
        {
          "name": "stdout",
          "output_type": "stream",
          "text": [
            "year                0\n",
            "make             2530\n",
            "model            2628\n",
            "trim             2564\n",
            "body             3027\n",
            "transmission    44969\n",
            "state               0\n",
            "condition        2184\n",
            "odometer           12\n",
            "color             594\n",
            "interior          594\n",
            "seller              0\n",
            "mmr                 0\n",
            "sellingprice        0\n",
            "dtype: int64\n"
          ]
        }
      ],
      "source": [
        "#show NA\n",
        "df1.isnull().sum()\n",
        "print(df1.isnull().sum())"
      ]
    },
    {
      "cell_type": "code",
      "execution_count": null,
      "id": "49a102d8",
      "metadata": {
        "id": "49a102d8",
        "outputId": "9e642882-a198-4407-948f-955557b3a0a5"
      },
      "outputs": [
        {
          "data": {
            "text/plain": [
              "transmission    12.286713\n",
              "body             0.827056\n",
              "model            0.718039\n",
              "trim             0.700552\n",
              "make             0.691262\n",
              "condition        0.596726\n",
              "color            0.162296\n",
              "interior         0.162296\n",
              "odometer         0.003279\n",
              "year             0.000000\n",
              "state            0.000000\n",
              "seller           0.000000\n",
              "mmr              0.000000\n",
              "sellingprice     0.000000\n",
              "dtype: float64"
            ]
          },
          "execution_count": 31,
          "metadata": {},
          "output_type": "execute_result"
        }
      ],
      "source": [
        "df1.isnull().mean().mul(100).sort_values(ascending=False)"
      ]
    },
    {
      "cell_type": "code",
      "execution_count": null,
      "id": "af3ec9ea",
      "metadata": {
        "id": "af3ec9ea",
        "outputId": "0987be2d-c43f-4f3e-b9fd-1871238b6c8b"
      },
      "outputs": [
        {
          "data": {
            "text/html": [
              "<div>\n",
              "<style scoped>\n",
              "    .dataframe tbody tr th:only-of-type {\n",
              "        vertical-align: middle;\n",
              "    }\n",
              "\n",
              "    .dataframe tbody tr th {\n",
              "        vertical-align: top;\n",
              "    }\n",
              "\n",
              "    .dataframe thead th {\n",
              "        text-align: right;\n",
              "    }\n",
              "</style>\n",
              "<table border=\"1\" class=\"dataframe\">\n",
              "  <thead>\n",
              "    <tr style=\"text-align: right;\">\n",
              "      <th></th>\n",
              "      <th>year</th>\n",
              "      <th>condition</th>\n",
              "      <th>odometer</th>\n",
              "      <th>mmr</th>\n",
              "      <th>sellingprice</th>\n",
              "    </tr>\n",
              "  </thead>\n",
              "  <tbody>\n",
              "    <tr>\n",
              "      <th>count</th>\n",
              "      <td>365997.000000</td>\n",
              "      <td>363813.000000</td>\n",
              "      <td>365985.000000</td>\n",
              "      <td>365997.000000</td>\n",
              "      <td>365997.000000</td>\n",
              "    </tr>\n",
              "    <tr>\n",
              "      <th>mean</th>\n",
              "      <td>2012.510996</td>\n",
              "      <td>3.761172</td>\n",
              "      <td>40491.471405</td>\n",
              "      <td>17653.509113</td>\n",
              "      <td>17461.506092</td>\n",
              "    </tr>\n",
              "    <tr>\n",
              "      <th>std</th>\n",
              "      <td>1.243643</td>\n",
              "      <td>0.818880</td>\n",
              "      <td>28171.896845</td>\n",
              "      <td>9169.108739</td>\n",
              "      <td>9266.244170</td>\n",
              "    </tr>\n",
              "    <tr>\n",
              "      <th>min</th>\n",
              "      <td>2010.000000</td>\n",
              "      <td>1.000000</td>\n",
              "      <td>1.000000</td>\n",
              "      <td>1100.000000</td>\n",
              "      <td>1.000000</td>\n",
              "    </tr>\n",
              "    <tr>\n",
              "      <th>25%</th>\n",
              "      <td>2012.000000</td>\n",
              "      <td>3.300000</td>\n",
              "      <td>21275.000000</td>\n",
              "      <td>11600.000000</td>\n",
              "      <td>11400.000000</td>\n",
              "    </tr>\n",
              "    <tr>\n",
              "      <th>50%</th>\n",
              "      <td>2013.000000</td>\n",
              "      <td>3.900000</td>\n",
              "      <td>34904.000000</td>\n",
              "      <td>15400.000000</td>\n",
              "      <td>15200.000000</td>\n",
              "    </tr>\n",
              "    <tr>\n",
              "      <th>75%</th>\n",
              "      <td>2013.000000</td>\n",
              "      <td>4.400000</td>\n",
              "      <td>53106.000000</td>\n",
              "      <td>21500.000000</td>\n",
              "      <td>21400.000000</td>\n",
              "    </tr>\n",
              "    <tr>\n",
              "      <th>max</th>\n",
              "      <td>2015.000000</td>\n",
              "      <td>5.000000</td>\n",
              "      <td>999999.000000</td>\n",
              "      <td>182000.000000</td>\n",
              "      <td>230000.000000</td>\n",
              "    </tr>\n",
              "  </tbody>\n",
              "</table>\n",
              "</div>"
            ],
            "text/plain": [
              "                year      condition       odometer            mmr  \\\n",
              "count  365997.000000  363813.000000  365985.000000  365997.000000   \n",
              "mean     2012.510996       3.761172   40491.471405   17653.509113   \n",
              "std         1.243643       0.818880   28171.896845    9169.108739   \n",
              "min      2010.000000       1.000000       1.000000    1100.000000   \n",
              "25%      2012.000000       3.300000   21275.000000   11600.000000   \n",
              "50%      2013.000000       3.900000   34904.000000   15400.000000   \n",
              "75%      2013.000000       4.400000   53106.000000   21500.000000   \n",
              "max      2015.000000       5.000000  999999.000000  182000.000000   \n",
              "\n",
              "        sellingprice  \n",
              "count  365997.000000  \n",
              "mean    17461.506092  \n",
              "std      9266.244170  \n",
              "min         1.000000  \n",
              "25%     11400.000000  \n",
              "50%     15200.000000  \n",
              "75%     21400.000000  \n",
              "max    230000.000000  "
            ]
          },
          "execution_count": 32,
          "metadata": {},
          "output_type": "execute_result"
        }
      ],
      "source": [
        "df1.describe()"
      ]
    },
    {
      "cell_type": "code",
      "execution_count": null,
      "id": "003bb71c",
      "metadata": {
        "id": "003bb71c",
        "outputId": "311eeda1-e7f7-4adf-85b2-fe34ec48de4d"
      },
      "outputs": [
        {
          "data": {
            "image/png": "[encoded data removed]",
            "text/plain": [
              "<Figure size 432x288 with 1 Axes>"
            ]
          },
          "metadata": {
            "needs_background": "light"
          },
          "output_type": "display_data"
        }
      ],
      "source": [
        "ax = sns.boxplot(data=df1[[\"odometer\"]])\n"
      ]
    },
    {
      "cell_type": "code",
      "execution_count": null,
      "id": "31a0fb6b",
      "metadata": {
        "id": "31a0fb6b",
        "outputId": "caa2f7c8-d00d-42f6-87da-d38310a9c57a"
      },
      "outputs": [
        {
          "data": {
            "image/png": "[encoded data removed]",
            "text/plain": [
              "<Figure size 432x288 with 1 Axes>"
            ]
          },
          "metadata": {
            "needs_background": "light"
          },
          "output_type": "display_data"
        }
      ],
      "source": [
        "ax = sns.boxplot(data=df1[[\"mmr\"]])"
      ]
    },
    {
      "cell_type": "code",
      "execution_count": null,
      "id": "e316037f",
      "metadata": {
        "id": "e316037f",
        "outputId": "3fdaec6c-9261-4f4b-931b-c8568cf2e126"
      },
      "outputs": [
        {
          "data": {
            "image/png": "[encoded data removed]",
            "text/plain": [
              "<Figure size 432x288 with 1 Axes>"
            ]
          },
          "metadata": {
            "needs_background": "light"
          },
          "output_type": "display_data"
        }
      ],
      "source": [
        "ax = sns.boxplot(data=df1[[\"sellingprice\"]])"
      ]
    },
    {
      "cell_type": "code",
      "execution_count": null,
      "id": "25e48078",
      "metadata": {
        "id": "25e48078",
        "outputId": "5d7d0161-6cee-4a47-a1f0-80f1555d61a9"
      },
      "outputs": [
        {
          "name": "stderr",
          "output_type": "stream",
          "text": [
            "C:\\Users\\parth\\AppData\\Local\\Temp/ipykernel_14104/775481838.py:5: FutureWarning: Automatic reindexing on DataFrame vs Series comparisons is deprecated and will raise ValueError in a future version.  Do `left, right = left.align(right, axis=1, copy=False)` before e.g. `left == right`\n",
            "  df1 = df1[~((df1 < (Q1 - 1.5 * IQR)) |(df1 > (Q3 + 1.5 * IQR))).any(axis=1)]\n"
          ]
        }
      ],
      "source": [
        "Q1 = df1.quantile(0.25)\n",
        "Q3 = df1.quantile(0.75)\n",
        "IQR = Q3 - Q1\n",
        "\n",
        "df1 = df1[~((df1 < (Q1 - 1.5 * IQR)) |(df1 > (Q3 + 1.5 * IQR))).any(axis=1)]"
      ]
    },
    {
      "cell_type": "code",
      "execution_count": null,
      "id": "7da20d7a",
      "metadata": {
        "id": "7da20d7a",
        "outputId": "c6a895f9-79c9-403e-b44c-69e5cc7271c5"
      },
      "outputs": [
        {
          "data": {
            "text/html": [
              "<div>\n",
              "<style scoped>\n",
              "    .dataframe tbody tr th:only-of-type {\n",
              "        vertical-align: middle;\n",
              "    }\n",
              "\n",
              "    .dataframe tbody tr th {\n",
              "        vertical-align: top;\n",
              "    }\n",
              "\n",
              "    .dataframe thead th {\n",
              "        text-align: right;\n",
              "    }\n",
              "</style>\n",
              "<table border=\"1\" class=\"dataframe\">\n",
              "  <thead>\n",
              "    <tr style=\"text-align: right;\">\n",
              "      <th></th>\n",
              "      <th>year</th>\n",
              "      <th>make</th>\n",
              "      <th>model</th>\n",
              "      <th>trim</th>\n",
              "      <th>body</th>\n",
              "      <th>transmission</th>\n",
              "      <th>state</th>\n",
              "      <th>condition</th>\n",
              "      <th>odometer</th>\n",
              "      <th>color</th>\n",
              "      <th>interior</th>\n",
              "      <th>seller</th>\n",
              "      <th>mmr</th>\n",
              "      <th>sellingprice</th>\n",
              "    </tr>\n",
              "  </thead>\n",
              "  <tbody>\n",
              "    <tr>\n",
              "      <th>2</th>\n",
              "      <td>2014</td>\n",
              "      <td>BMW</td>\n",
              "      <td>3 Series</td>\n",
              "      <td>328i SULEV</td>\n",
              "      <td>Sedan</td>\n",
              "      <td>automatic</td>\n",
              "      <td>ca</td>\n",
              "      <td>4.5</td>\n",
              "      <td>1331.0</td>\n",
              "      <td>gray</td>\n",
              "      <td>black</td>\n",
              "      <td>financial services remarketing (lease)</td>\n",
              "      <td>31900</td>\n",
              "      <td>30000</td>\n",
              "    </tr>\n",
              "    <tr>\n",
              "      <th>7</th>\n",
              "      <td>2014</td>\n",
              "      <td>Chevrolet</td>\n",
              "      <td>Cruze</td>\n",
              "      <td>1LT</td>\n",
              "      <td>Sedan</td>\n",
              "      <td>automatic</td>\n",
              "      <td>ca</td>\n",
              "      <td>2.0</td>\n",
              "      <td>28617.0</td>\n",
              "      <td>black</td>\n",
              "      <td>black</td>\n",
              "      <td>enterprise vehicle exchange / tra / rental / t...</td>\n",
              "      <td>11900</td>\n",
              "      <td>9800</td>\n",
              "    </tr>\n",
              "    <tr>\n",
              "      <th>8</th>\n",
              "      <td>2014</td>\n",
              "      <td>Audi</td>\n",
              "      <td>A4</td>\n",
              "      <td>2.0T Premium Plus quattro</td>\n",
              "      <td>Sedan</td>\n",
              "      <td>automatic</td>\n",
              "      <td>ca</td>\n",
              "      <td>4.2</td>\n",
              "      <td>9557.0</td>\n",
              "      <td>white</td>\n",
              "      <td>black</td>\n",
              "      <td>audi mission viejo</td>\n",
              "      <td>32100</td>\n",
              "      <td>32250</td>\n",
              "    </tr>\n",
              "    <tr>\n",
              "      <th>9</th>\n",
              "      <td>2014</td>\n",
              "      <td>Chevrolet</td>\n",
              "      <td>Camaro</td>\n",
              "      <td>LT</td>\n",
              "      <td>Convertible</td>\n",
              "      <td>automatic</td>\n",
              "      <td>ca</td>\n",
              "      <td>3.0</td>\n",
              "      <td>4809.0</td>\n",
              "      <td>red</td>\n",
              "      <td>black</td>\n",
              "      <td>d/m auto sales inc</td>\n",
              "      <td>26300</td>\n",
              "      <td>17500</td>\n",
              "    </tr>\n",
              "    <tr>\n",
              "      <th>14</th>\n",
              "      <td>2014</td>\n",
              "      <td>Chevrolet</td>\n",
              "      <td>Cruze</td>\n",
              "      <td>2LT</td>\n",
              "      <td>Sedan</td>\n",
              "      <td>automatic</td>\n",
              "      <td>ca</td>\n",
              "      <td>NaN</td>\n",
              "      <td>15686.0</td>\n",
              "      <td>blue</td>\n",
              "      <td>black</td>\n",
              "      <td>avis rac/san leandro</td>\n",
              "      <td>13900</td>\n",
              "      <td>10600</td>\n",
              "    </tr>\n",
              "    <tr>\n",
              "      <th>...</th>\n",
              "      <td>...</td>\n",
              "      <td>...</td>\n",
              "      <td>...</td>\n",
              "      <td>...</td>\n",
              "      <td>...</td>\n",
              "      <td>...</td>\n",
              "      <td>...</td>\n",
              "      <td>...</td>\n",
              "      <td>...</td>\n",
              "      <td>...</td>\n",
              "      <td>...</td>\n",
              "      <td>...</td>\n",
              "      <td>...</td>\n",
              "      <td>...</td>\n",
              "    </tr>\n",
              "    <tr>\n",
              "      <th>558804</th>\n",
              "      <td>2012</td>\n",
              "      <td>Nissan</td>\n",
              "      <td>Sentra</td>\n",
              "      <td>2.0 SR</td>\n",
              "      <td>Sedan</td>\n",
              "      <td>NaN</td>\n",
              "      <td>tn</td>\n",
              "      <td>2.6</td>\n",
              "      <td>35858.0</td>\n",
              "      <td>white</td>\n",
              "      <td>gray</td>\n",
              "      <td>nissan-infiniti lt</td>\n",
              "      <td>9950</td>\n",
              "      <td>10400</td>\n",
              "    </tr>\n",
              "    <tr>\n",
              "      <th>558805</th>\n",
              "      <td>2011</td>\n",
              "      <td>BMW</td>\n",
              "      <td>5 Series</td>\n",
              "      <td>528i</td>\n",
              "      <td>Sedan</td>\n",
              "      <td>automatic</td>\n",
              "      <td>fl</td>\n",
              "      <td>3.9</td>\n",
              "      <td>66403.0</td>\n",
              "      <td>white</td>\n",
              "      <td>brown</td>\n",
              "      <td>lauderdale imports ltd bmw pembrok pines</td>\n",
              "      <td>20300</td>\n",
              "      <td>22800</td>\n",
              "    </tr>\n",
              "    <tr>\n",
              "      <th>558807</th>\n",
              "      <td>2012</td>\n",
              "      <td>Ram</td>\n",
              "      <td>2500</td>\n",
              "      <td>Power Wagon</td>\n",
              "      <td>Crew Cab</td>\n",
              "      <td>automatic</td>\n",
              "      <td>wa</td>\n",
              "      <td>5.0</td>\n",
              "      <td>54393.0</td>\n",
              "      <td>white</td>\n",
              "      <td>black</td>\n",
              "      <td>i -5 uhlmann rv</td>\n",
              "      <td>30200</td>\n",
              "      <td>30800</td>\n",
              "    </tr>\n",
              "    <tr>\n",
              "      <th>558808</th>\n",
              "      <td>2012</td>\n",
              "      <td>BMW</td>\n",
              "      <td>X5</td>\n",
              "      <td>xDrive35d</td>\n",
              "      <td>SUV</td>\n",
              "      <td>automatic</td>\n",
              "      <td>ca</td>\n",
              "      <td>4.8</td>\n",
              "      <td>50561.0</td>\n",
              "      <td>black</td>\n",
              "      <td>black</td>\n",
              "      <td>financial services remarketing (lease)</td>\n",
              "      <td>29800</td>\n",
              "      <td>34000</td>\n",
              "    </tr>\n",
              "    <tr>\n",
              "      <th>558810</th>\n",
              "      <td>2014</td>\n",
              "      <td>Ford</td>\n",
              "      <td>F-150</td>\n",
              "      <td>XLT</td>\n",
              "      <td>SuperCrew</td>\n",
              "      <td>automatic</td>\n",
              "      <td>ca</td>\n",
              "      <td>3.4</td>\n",
              "      <td>15008.0</td>\n",
              "      <td>gray</td>\n",
              "      <td>gray</td>\n",
              "      <td>ford motor credit company,llc pd</td>\n",
              "      <td>29600</td>\n",
              "      <td>26700</td>\n",
              "    </tr>\n",
              "  </tbody>\n",
              "</table>\n",
              "<p>308220 rows × 14 columns</p>\n",
              "</div>"
            ],
            "text/plain": [
              "        year       make     model                       trim         body  \\\n",
              "2       2014        BMW  3 Series                 328i SULEV        Sedan   \n",
              "7       2014  Chevrolet     Cruze                        1LT        Sedan   \n",
              "8       2014       Audi        A4  2.0T Premium Plus quattro        Sedan   \n",
              "9       2014  Chevrolet    Camaro                         LT  Convertible   \n",
              "14      2014  Chevrolet     Cruze                        2LT        Sedan   \n",
              "...      ...        ...       ...                        ...          ...   \n",
              "558804  2012     Nissan    Sentra                     2.0 SR        Sedan   \n",
              "558805  2011        BMW  5 Series                       528i        Sedan   \n",
              "558807  2012        Ram      2500                Power Wagon     Crew Cab   \n",
              "558808  2012        BMW        X5                  xDrive35d          SUV   \n",
              "558810  2014       Ford     F-150                        XLT    SuperCrew   \n",
              "\n",
              "       transmission state  condition  odometer  color interior  \\\n",
              "2         automatic    ca        4.5    1331.0   gray    black   \n",
              "7         automatic    ca        2.0   28617.0  black    black   \n",
              "8         automatic    ca        4.2    9557.0  white    black   \n",
              "9         automatic    ca        3.0    4809.0    red    black   \n",
              "14        automatic    ca        NaN   15686.0   blue    black   \n",
              "...             ...   ...        ...       ...    ...      ...   \n",
              "558804          NaN    tn        2.6   35858.0  white     gray   \n",
              "558805    automatic    fl        3.9   66403.0  white    brown   \n",
              "558807    automatic    wa        5.0   54393.0  white    black   \n",
              "558808    automatic    ca        4.8   50561.0  black    black   \n",
              "558810    automatic    ca        3.4   15008.0   gray     gray   \n",
              "\n",
              "                                                   seller    mmr  sellingprice  \n",
              "2                  financial services remarketing (lease)  31900         30000  \n",
              "7       enterprise vehicle exchange / tra / rental / t...  11900          9800  \n",
              "8                                      audi mission viejo  32100         32250  \n",
              "9                                      d/m auto sales inc  26300         17500  \n",
              "14                                   avis rac/san leandro  13900         10600  \n",
              "...                                                   ...    ...           ...  \n",
              "558804                                 nissan-infiniti lt   9950         10400  \n",
              "558805           lauderdale imports ltd bmw pembrok pines  20300         22800  \n",
              "558807                                    i -5 uhlmann rv  30200         30800  \n",
              "558808             financial services remarketing (lease)  29800         34000  \n",
              "558810                   ford motor credit company,llc pd  29600         26700  \n",
              "\n",
              "[308220 rows x 14 columns]"
            ]
          },
          "execution_count": 37,
          "metadata": {},
          "output_type": "execute_result"
        }
      ],
      "source": [
        "df1"
      ]
    },
    {
      "cell_type": "code",
      "execution_count": null,
      "id": "8cd84035",
      "metadata": {
        "id": "8cd84035",
        "outputId": "238fb9eb-a05d-46a8-dbb0-71a6688d6d56"
      },
      "outputs": [
        {
          "data": {
            "text/plain": [
              "transmission    12.239310\n",
              "body             0.559665\n",
              "condition        0.505808\n",
              "trim             0.467523\n",
              "make             0.463954\n",
              "model            0.463954\n",
              "color            0.134320\n",
              "interior         0.134320\n",
              "odometer         0.002271\n",
              "year             0.000000\n",
              "state            0.000000\n",
              "seller           0.000000\n",
              "mmr              0.000000\n",
              "sellingprice     0.000000\n",
              "dtype: float64"
            ]
          },
          "execution_count": 38,
          "metadata": {},
          "output_type": "execute_result"
        }
      ],
      "source": [
        "df1.isnull().mean().mul(100).sort_values(ascending=False)"
      ]
    },
    {
      "cell_type": "code",
      "execution_count": null,
      "id": "9eae51f8",
      "metadata": {
        "id": "9eae51f8",
        "outputId": "ba6e1f09-2fc3-4977-8d39-23a97e4bd047"
      },
      "outputs": [
        {
          "data": {
            "text/html": [
              "<div>\n",
              "<style scoped>\n",
              "    .dataframe tbody tr th:only-of-type {\n",
              "        vertical-align: middle;\n",
              "    }\n",
              "\n",
              "    .dataframe tbody tr th {\n",
              "        vertical-align: top;\n",
              "    }\n",
              "\n",
              "    .dataframe thead th {\n",
              "        text-align: right;\n",
              "    }\n",
              "</style>\n",
              "<table border=\"1\" class=\"dataframe\">\n",
              "  <thead>\n",
              "    <tr style=\"text-align: right;\">\n",
              "      <th></th>\n",
              "      <th>make</th>\n",
              "      <th>model</th>\n",
              "      <th>trim</th>\n",
              "      <th>body</th>\n",
              "      <th>transmission</th>\n",
              "      <th>state</th>\n",
              "      <th>color</th>\n",
              "      <th>interior</th>\n",
              "      <th>seller</th>\n",
              "    </tr>\n",
              "  </thead>\n",
              "  <tbody>\n",
              "    <tr>\n",
              "      <th>count</th>\n",
              "      <td>306790</td>\n",
              "      <td>306790</td>\n",
              "      <td>306779</td>\n",
              "      <td>306495</td>\n",
              "      <td>270496</td>\n",
              "      <td>308220</td>\n",
              "      <td>307806</td>\n",
              "      <td>307806</td>\n",
              "      <td>308220</td>\n",
              "    </tr>\n",
              "    <tr>\n",
              "      <th>unique</th>\n",
              "      <td>52</td>\n",
              "      <td>407</td>\n",
              "      <td>677</td>\n",
              "      <td>67</td>\n",
              "      <td>2</td>\n",
              "      <td>38</td>\n",
              "      <td>20</td>\n",
              "      <td>17</td>\n",
              "      <td>7304</td>\n",
              "    </tr>\n",
              "    <tr>\n",
              "      <th>top</th>\n",
              "      <td>Ford</td>\n",
              "      <td>Altima</td>\n",
              "      <td>SE</td>\n",
              "      <td>Sedan</td>\n",
              "      <td>automatic</td>\n",
              "      <td>fl</td>\n",
              "      <td>black</td>\n",
              "      <td>black</td>\n",
              "      <td>nissan-infiniti lt</td>\n",
              "    </tr>\n",
              "    <tr>\n",
              "      <th>freq</th>\n",
              "      <td>61426</td>\n",
              "      <td>16151</td>\n",
              "      <td>33708</td>\n",
              "      <td>122224</td>\n",
              "      <td>264101</td>\n",
              "      <td>47654</td>\n",
              "      <td>63112</td>\n",
              "      <td>166013</td>\n",
              "      <td>19595</td>\n",
              "    </tr>\n",
              "  </tbody>\n",
              "</table>\n",
              "</div>"
            ],
            "text/plain": [
              "          make   model    trim    body transmission   state   color interior  \\\n",
              "count   306790  306790  306779  306495       270496  308220  307806   307806   \n",
              "unique      52     407     677      67            2      38      20       17   \n",
              "top       Ford  Altima      SE   Sedan    automatic      fl   black    black   \n",
              "freq     61426   16151   33708  122224       264101   47654   63112   166013   \n",
              "\n",
              "                    seller  \n",
              "count               308220  \n",
              "unique                7304  \n",
              "top     nissan-infiniti lt  \n",
              "freq                 19595  "
            ]
          },
          "execution_count": 39,
          "metadata": {},
          "output_type": "execute_result"
        }
      ],
      "source": [
        "df1.describe(include=\"object\")"
      ]
    },
    {
      "cell_type": "code",
      "execution_count": null,
      "id": "773a41c7",
      "metadata": {
        "id": "773a41c7",
        "outputId": "9daecd91-ef96-4e39-c4d1-d5f6ce358692"
      },
      "outputs": [
        {
          "data": {
            "text/html": [
              "<div>\n",
              "<style scoped>\n",
              "    .dataframe tbody tr th:only-of-type {\n",
              "        vertical-align: middle;\n",
              "    }\n",
              "\n",
              "    .dataframe tbody tr th {\n",
              "        vertical-align: top;\n",
              "    }\n",
              "\n",
              "    .dataframe thead th {\n",
              "        text-align: right;\n",
              "    }\n",
              "</style>\n",
              "<table border=\"1\" class=\"dataframe\">\n",
              "  <thead>\n",
              "    <tr style=\"text-align: right;\">\n",
              "      <th></th>\n",
              "      <th>year</th>\n",
              "      <th>condition</th>\n",
              "      <th>odometer</th>\n",
              "      <th>mmr</th>\n",
              "      <th>sellingprice</th>\n",
              "    </tr>\n",
              "  </thead>\n",
              "  <tbody>\n",
              "    <tr>\n",
              "      <th>count</th>\n",
              "      <td>308220.000000</td>\n",
              "      <td>306661.000000</td>\n",
              "      <td>308213.000000</td>\n",
              "      <td>308220.000000</td>\n",
              "      <td>308220.000000</td>\n",
              "    </tr>\n",
              "    <tr>\n",
              "      <th>mean</th>\n",
              "      <td>2012.649750</td>\n",
              "      <td>3.797368</td>\n",
              "      <td>36624.976386</td>\n",
              "      <td>16797.670495</td>\n",
              "      <td>16654.535621</td>\n",
              "    </tr>\n",
              "    <tr>\n",
              "      <th>std</th>\n",
              "      <td>0.996308</td>\n",
              "      <td>0.767345</td>\n",
              "      <td>20032.491040</td>\n",
              "      <td>6408.217226</td>\n",
              "      <td>6511.911353</td>\n",
              "    </tr>\n",
              "    <tr>\n",
              "      <th>min</th>\n",
              "      <td>2011.000000</td>\n",
              "      <td>1.700000</td>\n",
              "      <td>1.000000</td>\n",
              "      <td>2650.000000</td>\n",
              "      <td>1.000000</td>\n",
              "    </tr>\n",
              "    <tr>\n",
              "      <th>25%</th>\n",
              "      <td>2012.000000</td>\n",
              "      <td>3.400000</td>\n",
              "      <td>21446.000000</td>\n",
              "      <td>11850.000000</td>\n",
              "      <td>11700.000000</td>\n",
              "    </tr>\n",
              "    <tr>\n",
              "      <th>50%</th>\n",
              "      <td>2013.000000</td>\n",
              "      <td>3.900000</td>\n",
              "      <td>33785.000000</td>\n",
              "      <td>15300.000000</td>\n",
              "      <td>15200.000000</td>\n",
              "    </tr>\n",
              "    <tr>\n",
              "      <th>75%</th>\n",
              "      <td>2013.000000</td>\n",
              "      <td>4.400000</td>\n",
              "      <td>48651.000000</td>\n",
              "      <td>20900.000000</td>\n",
              "      <td>20750.000000</td>\n",
              "    </tr>\n",
              "    <tr>\n",
              "      <th>max</th>\n",
              "      <td>2014.000000</td>\n",
              "      <td>5.000000</td>\n",
              "      <td>100851.000000</td>\n",
              "      <td>36300.000000</td>\n",
              "      <td>36400.000000</td>\n",
              "    </tr>\n",
              "  </tbody>\n",
              "</table>\n",
              "</div>"
            ],
            "text/plain": [
              "                year      condition       odometer            mmr  \\\n",
              "count  308220.000000  306661.000000  308213.000000  308220.000000   \n",
              "mean     2012.649750       3.797368   36624.976386   16797.670495   \n",
              "std         0.996308       0.767345   20032.491040    6408.217226   \n",
              "min      2011.000000       1.700000       1.000000    2650.000000   \n",
              "25%      2012.000000       3.400000   21446.000000   11850.000000   \n",
              "50%      2013.000000       3.900000   33785.000000   15300.000000   \n",
              "75%      2013.000000       4.400000   48651.000000   20900.000000   \n",
              "max      2014.000000       5.000000  100851.000000   36300.000000   \n",
              "\n",
              "        sellingprice  \n",
              "count  308220.000000  \n",
              "mean    16654.535621  \n",
              "std      6511.911353  \n",
              "min         1.000000  \n",
              "25%     11700.000000  \n",
              "50%     15200.000000  \n",
              "75%     20750.000000  \n",
              "max     36400.000000  "
            ]
          },
          "execution_count": 40,
          "metadata": {},
          "output_type": "execute_result"
        }
      ],
      "source": [
        "df1.describe()"
      ]
    },
    {
      "cell_type": "code",
      "execution_count": null,
      "id": "60613dbb",
      "metadata": {
        "id": "60613dbb",
        "outputId": "d1482236-8a66-40cf-d84e-be209f71802b"
      },
      "outputs": [
        {
          "data": {
            "text/plain": [
              "2012    96577\n",
              "2013    93741\n",
              "2014    74809\n",
              "2011    43093\n",
              "Name: year, dtype: int64"
            ]
          },
          "execution_count": 41,
          "metadata": {},
          "output_type": "execute_result"
        }
      ],
      "source": [
        "df1[\"year\"].value_counts()"
      ]
    },
    {
      "cell_type": "code",
      "execution_count": null,
      "id": "7efec59b",
      "metadata": {
        "id": "7efec59b"
      },
      "outputs": [],
      "source": [
        "cont_features = ['odometer', 'sellingprice','mmr']"
      ]
    },
    {
      "cell_type": "code",
      "execution_count": null,
      "id": "750e2ee7",
      "metadata": {
        "id": "750e2ee7"
      },
      "outputs": [],
      "source": [
        "cat_features = ['make', 'model', 'trim', 'body', 'transmission', 'state', 'color',\n",
        "       'interior', 'seller','year', 'condition']"
      ]
    },
    {
      "cell_type": "code",
      "execution_count": null,
      "id": "cf70cd9e",
      "metadata": {
        "id": "cf70cd9e"
      },
      "outputs": [],
      "source": [
        "for x in cont_features:\n",
        "    df1[x].fillna(df1[x].median(),inplace=True)"
      ]
    },
    {
      "cell_type": "code",
      "execution_count": null,
      "id": "755f8ab2",
      "metadata": {
        "id": "755f8ab2"
      },
      "outputs": [],
      "source": [
        "for x in cat_features:\n",
        "    df1[x].fillna(df1[x].mode()[0],inplace=True)"
      ]
    },
    {
      "cell_type": "code",
      "execution_count": null,
      "id": "2d41c1e1",
      "metadata": {
        "id": "2d41c1e1"
      },
      "outputs": [],
      "source": [
        "le=preprocessing.LabelEncoder()\n",
        "df1[['make', 'model', 'trim', 'body', 'transmission', 'state', 'color',\n",
        "       'interior', 'seller']]=df1[['make', 'model', 'trim', 'body', 'transmission', 'state', 'color',\n",
        "       'interior', 'seller']].apply(le.fit_transform)"
      ]
    },
    {
      "cell_type": "code",
      "execution_count": null,
      "id": "a9de6812",
      "metadata": {
        "id": "a9de6812",
        "outputId": "bb821782-4161-4781-992a-f0d62364d03c"
      },
      "outputs": [
        {
          "data": {
            "text/plain": [
              "year              int64\n",
              "make              int32\n",
              "model             int32\n",
              "trim              int32\n",
              "body              int32\n",
              "transmission      int32\n",
              "state             int32\n",
              "condition       float64\n",
              "odometer        float64\n",
              "color             int32\n",
              "interior          int32\n",
              "seller            int32\n",
              "mmr               int64\n",
              "sellingprice      int64\n",
              "dtype: object"
            ]
          },
          "execution_count": 47,
          "metadata": {},
          "output_type": "execute_result"
        }
      ],
      "source": [
        "df1.dtypes"
      ]
    },
    {
      "cell_type": "code",
      "execution_count": null,
      "id": "95094b34",
      "metadata": {
        "id": "95094b34"
      },
      "outputs": [],
      "source": []
    },
    {
      "cell_type": "code",
      "execution_count": null,
      "id": "22ee809a",
      "metadata": {
        "id": "22ee809a"
      },
      "outputs": [],
      "source": []
    }
  ],
  "metadata": {
    "kernelspec": {
      "display_name": "Python 3",
      "language": "python",
      "name": "python3"
    },
    "language_info": {
      "codemirror_mode": {
        "name": "ipython",
        "version": 3
      },
      "file_extension": ".py",
      "mimetype": "text/x-python",
      "name": "python",
      "nbconvert_exporter": "python",
      "pygments_lexer": "ipython3",
      "version": "3.9.7"
    },
    "colab": {
      "provenance": [],
      "include_colab_link": true
    }
  },
  "nbformat": 4,
  "nbformat_minor": 5
}